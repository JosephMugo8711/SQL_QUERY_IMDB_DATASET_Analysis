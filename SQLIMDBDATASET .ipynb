{
 "cells": [
  {
   "cell_type": "code",
   "execution_count": 2,
   "id": "d50695e4",
   "metadata": {},
   "outputs": [],
   "source": [
    "# Mathematical operations\n",
    "import numpy as np\n",
    "\n",
    "#Data Analysis - DE, DM, DC, DV\n",
    "import pandas as pd\n",
    "\n",
    "#dATA VISUALIZATION TOOL\n",
    "import matplotlib.pyplot as plt\n",
    "\n",
    "#Data Visaualization tool\n",
    "import seaborn as sn\n",
    "\n",
    "#serverless database\n",
    "import sqlite3\n",
    "\n",
    "#REGEX - DATA CLEANING\n",
    "import re"
   ]
  },
  {
   "cell_type": "markdown",
   "id": "9fbf5891",
   "metadata": {},
   "source": [
    "# PLANNING/MY APPROACH"
   ]
  },
  {
   "cell_type": "markdown",
   "id": "43a44210",
   "metadata": {},
   "source": [
    "STEP1: connect database sqlit3.connect(database_name)\n",
    "STEP2: Use the cursor function - Database_variable.cursor()\n"
   ]
  },
  {
   "cell_type": "markdown",
   "id": "c4ba98d9",
   "metadata": {},
   "source": [
    "# WORKFLOW"
   ]
  },
  {
   "cell_type": "markdown",
   "id": "b64c895d",
   "metadata": {},
   "source": [
    "1. I will establish a connection to the SQLITE Database by creating a connection object\n",
    "2. I will create a cursor object using the cursor() method\n",
    "3. I will execute the query cursor_variable.execute('query')\n",
    "4. Fetch the data then use fetchall() method of the cursor variable/object\n",
    "5. I will create a DataFrame w.r.t the SQlite\n",
    "6. Data Analysis - Data Manipulation, Data Exploration, Data Cleaning, Data Visualization\n",
    "7. I will write a conclusion at every step"
   ]
  },
  {
   "cell_type": "markdown",
   "id": "15b5976e",
   "metadata": {},
   "source": [
    "Establishing a connection to the database"
   ]
  },
  {
   "cell_type": "code",
   "execution_count": 3,
   "id": "5360ba0d",
   "metadata": {},
   "outputs": [],
   "source": [
    "# Storing the path of the database into a variable 'db'\n",
    "db = 'movies.sqlite'\n",
    "\n",
    "#Creating a Database connection Object\n",
    "conn = sqlite3.connect(db)\n",
    "\n",
    "# database object that allows us to access data of one row at a time\n",
    "# Creating a cursor object\n",
    "cur = conn.cursor()"
   ]
  },
  {
   "cell_type": "code",
   "execution_count": 4,
   "id": "46a0699b",
   "metadata": {},
   "outputs": [],
   "source": [
    "# Fetch all the data of the movies frm the movies from the movies table in the above database\n",
    "cur.execute('SELECT * FROM movies')\n",
    "\n",
    "#Creating a cursor object\n",
    "movies = cur.fetchall()\n",
    "\n"
   ]
  },
  {
   "cell_type": "code",
   "execution_count": 31,
   "id": "42db4211",
   "metadata": {},
   "outputs": [],
   "source": [
    "# Displaying all the data from the movies table\n",
    "#movies"
   ]
  },
  {
   "cell_type": "code",
   "execution_count": 5,
   "id": "aea75c21",
   "metadata": {},
   "outputs": [
    {
     "data": {
      "text/html": [
       "<div>\n",
       "<style scoped>\n",
       "    .dataframe tbody tr th:only-of-type {\n",
       "        vertical-align: middle;\n",
       "    }\n",
       "\n",
       "    .dataframe tbody tr th {\n",
       "        vertical-align: top;\n",
       "    }\n",
       "\n",
       "    .dataframe thead th {\n",
       "        text-align: right;\n",
       "    }\n",
       "</style>\n",
       "<table border=\"1\" class=\"dataframe\">\n",
       "  <thead>\n",
       "    <tr style=\"text-align: right;\">\n",
       "      <th></th>\n",
       "      <th>id</th>\n",
       "      <th>original_title</th>\n",
       "      <th>budget</th>\n",
       "      <th>popularity</th>\n",
       "      <th>release_date</th>\n",
       "      <th>revenue</th>\n",
       "      <th>title</th>\n",
       "      <th>vote_average</th>\n",
       "      <th>vote_count</th>\n",
       "      <th>overview</th>\n",
       "      <th>tagline</th>\n",
       "      <th>uid</th>\n",
       "      <th>director_id</th>\n",
       "    </tr>\n",
       "  </thead>\n",
       "  <tbody>\n",
       "    <tr>\n",
       "      <th>0</th>\n",
       "      <td>43597</td>\n",
       "      <td>Avatar</td>\n",
       "      <td>237000000</td>\n",
       "      <td>150</td>\n",
       "      <td>2009-12-10</td>\n",
       "      <td>2787965087</td>\n",
       "      <td>Avatar</td>\n",
       "      <td>7.2</td>\n",
       "      <td>11800</td>\n",
       "      <td>In the 22nd century, a paraplegic Marine is di...</td>\n",
       "      <td>Enter the World of Pandora.</td>\n",
       "      <td>19995</td>\n",
       "      <td>4762</td>\n",
       "    </tr>\n",
       "    <tr>\n",
       "      <th>1</th>\n",
       "      <td>43598</td>\n",
       "      <td>Pirates of the Caribbean: At World's End</td>\n",
       "      <td>300000000</td>\n",
       "      <td>139</td>\n",
       "      <td>2007-05-19</td>\n",
       "      <td>961000000</td>\n",
       "      <td>Pirates of the Caribbean: At World's End</td>\n",
       "      <td>6.9</td>\n",
       "      <td>4500</td>\n",
       "      <td>Captain Barbossa, long believed to be dead, ha...</td>\n",
       "      <td>At the end of the world, the adventure begins.</td>\n",
       "      <td>285</td>\n",
       "      <td>4763</td>\n",
       "    </tr>\n",
       "    <tr>\n",
       "      <th>2</th>\n",
       "      <td>43599</td>\n",
       "      <td>Spectre</td>\n",
       "      <td>245000000</td>\n",
       "      <td>107</td>\n",
       "      <td>2015-10-26</td>\n",
       "      <td>880674609</td>\n",
       "      <td>Spectre</td>\n",
       "      <td>6.3</td>\n",
       "      <td>4466</td>\n",
       "      <td>A cryptic message from Bond’s past sends him o...</td>\n",
       "      <td>A Plan No One Escapes</td>\n",
       "      <td>206647</td>\n",
       "      <td>4764</td>\n",
       "    </tr>\n",
       "    <tr>\n",
       "      <th>3</th>\n",
       "      <td>43600</td>\n",
       "      <td>The Dark Knight Rises</td>\n",
       "      <td>250000000</td>\n",
       "      <td>112</td>\n",
       "      <td>2012-07-16</td>\n",
       "      <td>1084939099</td>\n",
       "      <td>The Dark Knight Rises</td>\n",
       "      <td>7.6</td>\n",
       "      <td>9106</td>\n",
       "      <td>Following the death of District Attorney Harve...</td>\n",
       "      <td>The Legend Ends</td>\n",
       "      <td>49026</td>\n",
       "      <td>4765</td>\n",
       "    </tr>\n",
       "    <tr>\n",
       "      <th>4</th>\n",
       "      <td>43601</td>\n",
       "      <td>John Carter</td>\n",
       "      <td>260000000</td>\n",
       "      <td>43</td>\n",
       "      <td>2012-03-07</td>\n",
       "      <td>284139100</td>\n",
       "      <td>John Carter</td>\n",
       "      <td>6.1</td>\n",
       "      <td>2124</td>\n",
       "      <td>John Carter is a war-weary, former military ca...</td>\n",
       "      <td>Lost in our world, found in another.</td>\n",
       "      <td>49529</td>\n",
       "      <td>4766</td>\n",
       "    </tr>\n",
       "    <tr>\n",
       "      <th>...</th>\n",
       "      <td>...</td>\n",
       "      <td>...</td>\n",
       "      <td>...</td>\n",
       "      <td>...</td>\n",
       "      <td>...</td>\n",
       "      <td>...</td>\n",
       "      <td>...</td>\n",
       "      <td>...</td>\n",
       "      <td>...</td>\n",
       "      <td>...</td>\n",
       "      <td>...</td>\n",
       "      <td>...</td>\n",
       "      <td>...</td>\n",
       "    </tr>\n",
       "    <tr>\n",
       "      <th>4768</th>\n",
       "      <td>48395</td>\n",
       "      <td>El Mariachi</td>\n",
       "      <td>220000</td>\n",
       "      <td>14</td>\n",
       "      <td>1992-09-04</td>\n",
       "      <td>2040920</td>\n",
       "      <td>El Mariachi</td>\n",
       "      <td>6.6</td>\n",
       "      <td>238</td>\n",
       "      <td>El Mariachi just wants to play his guitar and ...</td>\n",
       "      <td>He didn't come looking for trouble, but troubl...</td>\n",
       "      <td>9367</td>\n",
       "      <td>5097</td>\n",
       "    </tr>\n",
       "    <tr>\n",
       "      <th>4769</th>\n",
       "      <td>48396</td>\n",
       "      <td>Newlyweds</td>\n",
       "      <td>9000</td>\n",
       "      <td>0</td>\n",
       "      <td>2011-12-26</td>\n",
       "      <td>0</td>\n",
       "      <td>Newlyweds</td>\n",
       "      <td>5.9</td>\n",
       "      <td>5</td>\n",
       "      <td>A newlywed couple's honeymoon is upended by th...</td>\n",
       "      <td>A newlywed couple's honeymoon is upended by th...</td>\n",
       "      <td>72766</td>\n",
       "      <td>6485</td>\n",
       "    </tr>\n",
       "    <tr>\n",
       "      <th>4770</th>\n",
       "      <td>48397</td>\n",
       "      <td>Signed, Sealed, Delivered</td>\n",
       "      <td>0</td>\n",
       "      <td>1</td>\n",
       "      <td>2013-10-13</td>\n",
       "      <td>0</td>\n",
       "      <td>Signed, Sealed, Delivered</td>\n",
       "      <td>7.0</td>\n",
       "      <td>6</td>\n",
       "      <td>\"Signed, Sealed, Delivered\" introduces a dedic...</td>\n",
       "      <td>None</td>\n",
       "      <td>231617</td>\n",
       "      <td>7108</td>\n",
       "    </tr>\n",
       "    <tr>\n",
       "      <th>4771</th>\n",
       "      <td>48398</td>\n",
       "      <td>Shanghai Calling</td>\n",
       "      <td>0</td>\n",
       "      <td>0</td>\n",
       "      <td>2012-05-03</td>\n",
       "      <td>0</td>\n",
       "      <td>Shanghai Calling</td>\n",
       "      <td>5.7</td>\n",
       "      <td>7</td>\n",
       "      <td>When ambitious New York attorney Sam is sent t...</td>\n",
       "      <td>A New Yorker in Shanghai</td>\n",
       "      <td>126186</td>\n",
       "      <td>7109</td>\n",
       "    </tr>\n",
       "    <tr>\n",
       "      <th>4772</th>\n",
       "      <td>48399</td>\n",
       "      <td>My Date with Drew</td>\n",
       "      <td>0</td>\n",
       "      <td>1</td>\n",
       "      <td>2005-08-05</td>\n",
       "      <td>0</td>\n",
       "      <td>My Date with Drew</td>\n",
       "      <td>6.3</td>\n",
       "      <td>16</td>\n",
       "      <td>Ever since the second grade when he first saw ...</td>\n",
       "      <td>None</td>\n",
       "      <td>25975</td>\n",
       "      <td>7110</td>\n",
       "    </tr>\n",
       "  </tbody>\n",
       "</table>\n",
       "<p>4773 rows × 13 columns</p>\n",
       "</div>"
      ],
      "text/plain": [
       "         id                            original_title     budget  popularity  \\\n",
       "0     43597                                    Avatar  237000000         150   \n",
       "1     43598  Pirates of the Caribbean: At World's End  300000000         139   \n",
       "2     43599                                   Spectre  245000000         107   \n",
       "3     43600                     The Dark Knight Rises  250000000         112   \n",
       "4     43601                               John Carter  260000000          43   \n",
       "...     ...                                       ...        ...         ...   \n",
       "4768  48395                               El Mariachi     220000          14   \n",
       "4769  48396                                 Newlyweds       9000           0   \n",
       "4770  48397                 Signed, Sealed, Delivered          0           1   \n",
       "4771  48398                          Shanghai Calling          0           0   \n",
       "4772  48399                         My Date with Drew          0           1   \n",
       "\n",
       "     release_date     revenue                                     title  \\\n",
       "0      2009-12-10  2787965087                                    Avatar   \n",
       "1      2007-05-19   961000000  Pirates of the Caribbean: At World's End   \n",
       "2      2015-10-26   880674609                                   Spectre   \n",
       "3      2012-07-16  1084939099                     The Dark Knight Rises   \n",
       "4      2012-03-07   284139100                               John Carter   \n",
       "...           ...         ...                                       ...   \n",
       "4768   1992-09-04     2040920                               El Mariachi   \n",
       "4769   2011-12-26           0                                 Newlyweds   \n",
       "4770   2013-10-13           0                 Signed, Sealed, Delivered   \n",
       "4771   2012-05-03           0                          Shanghai Calling   \n",
       "4772   2005-08-05           0                         My Date with Drew   \n",
       "\n",
       "      vote_average  vote_count  \\\n",
       "0              7.2       11800   \n",
       "1              6.9        4500   \n",
       "2              6.3        4466   \n",
       "3              7.6        9106   \n",
       "4              6.1        2124   \n",
       "...            ...         ...   \n",
       "4768           6.6         238   \n",
       "4769           5.9           5   \n",
       "4770           7.0           6   \n",
       "4771           5.7           7   \n",
       "4772           6.3          16   \n",
       "\n",
       "                                               overview  \\\n",
       "0     In the 22nd century, a paraplegic Marine is di...   \n",
       "1     Captain Barbossa, long believed to be dead, ha...   \n",
       "2     A cryptic message from Bond’s past sends him o...   \n",
       "3     Following the death of District Attorney Harve...   \n",
       "4     John Carter is a war-weary, former military ca...   \n",
       "...                                                 ...   \n",
       "4768  El Mariachi just wants to play his guitar and ...   \n",
       "4769  A newlywed couple's honeymoon is upended by th...   \n",
       "4770  \"Signed, Sealed, Delivered\" introduces a dedic...   \n",
       "4771  When ambitious New York attorney Sam is sent t...   \n",
       "4772  Ever since the second grade when he first saw ...   \n",
       "\n",
       "                                                tagline     uid  director_id  \n",
       "0                           Enter the World of Pandora.   19995         4762  \n",
       "1        At the end of the world, the adventure begins.     285         4763  \n",
       "2                                 A Plan No One Escapes  206647         4764  \n",
       "3                                       The Legend Ends   49026         4765  \n",
       "4                  Lost in our world, found in another.   49529         4766  \n",
       "...                                                 ...     ...          ...  \n",
       "4768  He didn't come looking for trouble, but troubl...    9367         5097  \n",
       "4769  A newlywed couple's honeymoon is upended by th...   72766         6485  \n",
       "4770                                               None  231617         7108  \n",
       "4771                           A New Yorker in Shanghai  126186         7109  \n",
       "4772                                               None   25975         7110  \n",
       "\n",
       "[4773 rows x 13 columns]"
      ]
     },
     "execution_count": 5,
     "metadata": {},
     "output_type": "execute_result"
    }
   ],
   "source": [
    "# Creating a DataFrame\n",
    "columns = ['id', 'original_title', 'budget', 'popularity','release_date', 'revenue','title','vote_average',\n",
    "          'vote_count', 'overview', 'tagline', 'uid', 'director_id']\n",
    "movies_df = pd.DataFrame(movies, columns= columns)\n",
    "movies_df"
   ]
  },
  {
   "cell_type": "code",
   "execution_count": 16,
   "id": "18960389",
   "metadata": {},
   "outputs": [
    {
     "data": {
      "text/html": [
       "<div>\n",
       "<style scoped>\n",
       "    .dataframe tbody tr th:only-of-type {\n",
       "        vertical-align: middle;\n",
       "    }\n",
       "\n",
       "    .dataframe tbody tr th {\n",
       "        vertical-align: top;\n",
       "    }\n",
       "\n",
       "    .dataframe thead th {\n",
       "        text-align: right;\n",
       "    }\n",
       "</style>\n",
       "<table border=\"1\" class=\"dataframe\">\n",
       "  <thead>\n",
       "    <tr style=\"text-align: right;\">\n",
       "      <th></th>\n",
       "      <th>id</th>\n",
       "      <th>original_title</th>\n",
       "      <th>budget</th>\n",
       "      <th>popularity</th>\n",
       "      <th>release_date</th>\n",
       "      <th>revenue</th>\n",
       "      <th>title</th>\n",
       "      <th>vote_average</th>\n",
       "      <th>vote_count</th>\n",
       "      <th>overview</th>\n",
       "      <th>tagline</th>\n",
       "      <th>uid</th>\n",
       "      <th>director_id</th>\n",
       "    </tr>\n",
       "  </thead>\n",
       "  <tbody>\n",
       "    <tr>\n",
       "      <th>0</th>\n",
       "      <td>43597</td>\n",
       "      <td>Avatar</td>\n",
       "      <td>237000000</td>\n",
       "      <td>150</td>\n",
       "      <td>2009-12-10</td>\n",
       "      <td>2787965087</td>\n",
       "      <td>Avatar</td>\n",
       "      <td>7.2</td>\n",
       "      <td>11800</td>\n",
       "      <td>In the 22nd century, a paraplegic Marine is di...</td>\n",
       "      <td>Enter the World of Pandora.</td>\n",
       "      <td>19995</td>\n",
       "      <td>4762</td>\n",
       "    </tr>\n",
       "    <tr>\n",
       "      <th>1</th>\n",
       "      <td>43598</td>\n",
       "      <td>Pirates of the Caribbean: At World's End</td>\n",
       "      <td>300000000</td>\n",
       "      <td>139</td>\n",
       "      <td>2007-05-19</td>\n",
       "      <td>961000000</td>\n",
       "      <td>Pirates of the Caribbean: At World's End</td>\n",
       "      <td>6.9</td>\n",
       "      <td>4500</td>\n",
       "      <td>Captain Barbossa, long believed to be dead, ha...</td>\n",
       "      <td>At the end of the world, the adventure begins.</td>\n",
       "      <td>285</td>\n",
       "      <td>4763</td>\n",
       "    </tr>\n",
       "    <tr>\n",
       "      <th>2</th>\n",
       "      <td>43599</td>\n",
       "      <td>Spectre</td>\n",
       "      <td>245000000</td>\n",
       "      <td>107</td>\n",
       "      <td>2015-10-26</td>\n",
       "      <td>880674609</td>\n",
       "      <td>Spectre</td>\n",
       "      <td>6.3</td>\n",
       "      <td>4466</td>\n",
       "      <td>A cryptic message from Bond’s past sends him o...</td>\n",
       "      <td>A Plan No One Escapes</td>\n",
       "      <td>206647</td>\n",
       "      <td>4764</td>\n",
       "    </tr>\n",
       "    <tr>\n",
       "      <th>3</th>\n",
       "      <td>43600</td>\n",
       "      <td>The Dark Knight Rises</td>\n",
       "      <td>250000000</td>\n",
       "      <td>112</td>\n",
       "      <td>2012-07-16</td>\n",
       "      <td>1084939099</td>\n",
       "      <td>The Dark Knight Rises</td>\n",
       "      <td>7.6</td>\n",
       "      <td>9106</td>\n",
       "      <td>Following the death of District Attorney Harve...</td>\n",
       "      <td>The Legend Ends</td>\n",
       "      <td>49026</td>\n",
       "      <td>4765</td>\n",
       "    </tr>\n",
       "    <tr>\n",
       "      <th>4</th>\n",
       "      <td>43601</td>\n",
       "      <td>John Carter</td>\n",
       "      <td>260000000</td>\n",
       "      <td>43</td>\n",
       "      <td>2012-03-07</td>\n",
       "      <td>284139100</td>\n",
       "      <td>John Carter</td>\n",
       "      <td>6.1</td>\n",
       "      <td>2124</td>\n",
       "      <td>John Carter is a war-weary, former military ca...</td>\n",
       "      <td>Lost in our world, found in another.</td>\n",
       "      <td>49529</td>\n",
       "      <td>4766</td>\n",
       "    </tr>\n",
       "    <tr>\n",
       "      <th>...</th>\n",
       "      <td>...</td>\n",
       "      <td>...</td>\n",
       "      <td>...</td>\n",
       "      <td>...</td>\n",
       "      <td>...</td>\n",
       "      <td>...</td>\n",
       "      <td>...</td>\n",
       "      <td>...</td>\n",
       "      <td>...</td>\n",
       "      <td>...</td>\n",
       "      <td>...</td>\n",
       "      <td>...</td>\n",
       "      <td>...</td>\n",
       "    </tr>\n",
       "    <tr>\n",
       "      <th>4768</th>\n",
       "      <td>48395</td>\n",
       "      <td>El Mariachi</td>\n",
       "      <td>220000</td>\n",
       "      <td>14</td>\n",
       "      <td>1992-09-04</td>\n",
       "      <td>2040920</td>\n",
       "      <td>El Mariachi</td>\n",
       "      <td>6.6</td>\n",
       "      <td>238</td>\n",
       "      <td>El Mariachi just wants to play his guitar and ...</td>\n",
       "      <td>He didn't come looking for trouble, but troubl...</td>\n",
       "      <td>9367</td>\n",
       "      <td>5097</td>\n",
       "    </tr>\n",
       "    <tr>\n",
       "      <th>4769</th>\n",
       "      <td>48396</td>\n",
       "      <td>Newlyweds</td>\n",
       "      <td>9000</td>\n",
       "      <td>0</td>\n",
       "      <td>2011-12-26</td>\n",
       "      <td>0</td>\n",
       "      <td>Newlyweds</td>\n",
       "      <td>5.9</td>\n",
       "      <td>5</td>\n",
       "      <td>A newlywed couple's honeymoon is upended by th...</td>\n",
       "      <td>A newlywed couple's honeymoon is upended by th...</td>\n",
       "      <td>72766</td>\n",
       "      <td>6485</td>\n",
       "    </tr>\n",
       "    <tr>\n",
       "      <th>4770</th>\n",
       "      <td>48397</td>\n",
       "      <td>Signed, Sealed, Delivered</td>\n",
       "      <td>0</td>\n",
       "      <td>1</td>\n",
       "      <td>2013-10-13</td>\n",
       "      <td>0</td>\n",
       "      <td>Signed, Sealed, Delivered</td>\n",
       "      <td>7.0</td>\n",
       "      <td>6</td>\n",
       "      <td>\"Signed, Sealed, Delivered\" introduces a dedic...</td>\n",
       "      <td>None</td>\n",
       "      <td>231617</td>\n",
       "      <td>7108</td>\n",
       "    </tr>\n",
       "    <tr>\n",
       "      <th>4771</th>\n",
       "      <td>48398</td>\n",
       "      <td>Shanghai Calling</td>\n",
       "      <td>0</td>\n",
       "      <td>0</td>\n",
       "      <td>2012-05-03</td>\n",
       "      <td>0</td>\n",
       "      <td>Shanghai Calling</td>\n",
       "      <td>5.7</td>\n",
       "      <td>7</td>\n",
       "      <td>When ambitious New York attorney Sam is sent t...</td>\n",
       "      <td>A New Yorker in Shanghai</td>\n",
       "      <td>126186</td>\n",
       "      <td>7109</td>\n",
       "    </tr>\n",
       "    <tr>\n",
       "      <th>4772</th>\n",
       "      <td>48399</td>\n",
       "      <td>My Date with Drew</td>\n",
       "      <td>0</td>\n",
       "      <td>1</td>\n",
       "      <td>2005-08-05</td>\n",
       "      <td>0</td>\n",
       "      <td>My Date with Drew</td>\n",
       "      <td>6.3</td>\n",
       "      <td>16</td>\n",
       "      <td>Ever since the second grade when he first saw ...</td>\n",
       "      <td>None</td>\n",
       "      <td>25975</td>\n",
       "      <td>7110</td>\n",
       "    </tr>\n",
       "  </tbody>\n",
       "</table>\n",
       "<p>4773 rows × 13 columns</p>\n",
       "</div>"
      ],
      "text/plain": [
       "         id                            original_title     budget  popularity  \\\n",
       "0     43597                                    Avatar  237000000         150   \n",
       "1     43598  Pirates of the Caribbean: At World's End  300000000         139   \n",
       "2     43599                                   Spectre  245000000         107   \n",
       "3     43600                     The Dark Knight Rises  250000000         112   \n",
       "4     43601                               John Carter  260000000          43   \n",
       "...     ...                                       ...        ...         ...   \n",
       "4768  48395                               El Mariachi     220000          14   \n",
       "4769  48396                                 Newlyweds       9000           0   \n",
       "4770  48397                 Signed, Sealed, Delivered          0           1   \n",
       "4771  48398                          Shanghai Calling          0           0   \n",
       "4772  48399                         My Date with Drew          0           1   \n",
       "\n",
       "     release_date     revenue                                     title  \\\n",
       "0      2009-12-10  2787965087                                    Avatar   \n",
       "1      2007-05-19   961000000  Pirates of the Caribbean: At World's End   \n",
       "2      2015-10-26   880674609                                   Spectre   \n",
       "3      2012-07-16  1084939099                     The Dark Knight Rises   \n",
       "4      2012-03-07   284139100                               John Carter   \n",
       "...           ...         ...                                       ...   \n",
       "4768   1992-09-04     2040920                               El Mariachi   \n",
       "4769   2011-12-26           0                                 Newlyweds   \n",
       "4770   2013-10-13           0                 Signed, Sealed, Delivered   \n",
       "4771   2012-05-03           0                          Shanghai Calling   \n",
       "4772   2005-08-05           0                         My Date with Drew   \n",
       "\n",
       "      vote_average  vote_count  \\\n",
       "0              7.2       11800   \n",
       "1              6.9        4500   \n",
       "2              6.3        4466   \n",
       "3              7.6        9106   \n",
       "4              6.1        2124   \n",
       "...            ...         ...   \n",
       "4768           6.6         238   \n",
       "4769           5.9           5   \n",
       "4770           7.0           6   \n",
       "4771           5.7           7   \n",
       "4772           6.3          16   \n",
       "\n",
       "                                               overview  \\\n",
       "0     In the 22nd century, a paraplegic Marine is di...   \n",
       "1     Captain Barbossa, long believed to be dead, ha...   \n",
       "2     A cryptic message from Bond’s past sends him o...   \n",
       "3     Following the death of District Attorney Harve...   \n",
       "4     John Carter is a war-weary, former military ca...   \n",
       "...                                                 ...   \n",
       "4768  El Mariachi just wants to play his guitar and ...   \n",
       "4769  A newlywed couple's honeymoon is upended by th...   \n",
       "4770  \"Signed, Sealed, Delivered\" introduces a dedic...   \n",
       "4771  When ambitious New York attorney Sam is sent t...   \n",
       "4772  Ever since the second grade when he first saw ...   \n",
       "\n",
       "                                                tagline     uid  director_id  \n",
       "0                           Enter the World of Pandora.   19995         4762  \n",
       "1        At the end of the world, the adventure begins.     285         4763  \n",
       "2                                 A Plan No One Escapes  206647         4764  \n",
       "3                                       The Legend Ends   49026         4765  \n",
       "4                  Lost in our world, found in another.   49529         4766  \n",
       "...                                                 ...     ...          ...  \n",
       "4768  He didn't come looking for trouble, but troubl...    9367         5097  \n",
       "4769  A newlywed couple's honeymoon is upended by th...   72766         6485  \n",
       "4770                                               None  231617         7108  \n",
       "4771                           A New Yorker in Shanghai  126186         7109  \n",
       "4772                                               None   25975         7110  \n",
       "\n",
       "[4773 rows x 13 columns]"
      ]
     },
     "execution_count": 16,
     "metadata": {},
     "output_type": "execute_result"
    }
   ],
   "source": [
    "# Display the dataframe\n",
    "movies_df"
   ]
  },
  {
   "cell_type": "code",
   "execution_count": 18,
   "id": "89bc847e",
   "metadata": {},
   "outputs": [
    {
     "name": "stdout",
     "output_type": "stream",
     "text": [
      "<class 'pandas.core.frame.DataFrame'>\n",
      "RangeIndex: 4773 entries, 0 to 4772\n",
      "Data columns (total 13 columns):\n",
      " #   Column          Non-Null Count  Dtype  \n",
      "---  ------          --------------  -----  \n",
      " 0   id              4773 non-null   int64  \n",
      " 1   original_title  4773 non-null   object \n",
      " 2   budget          4773 non-null   int64  \n",
      " 3   popularity      4773 non-null   int64  \n",
      " 4   release_date    4773 non-null   object \n",
      " 5   revenue         4773 non-null   int64  \n",
      " 6   title           4773 non-null   object \n",
      " 7   vote_average    4773 non-null   float64\n",
      " 8   vote_count      4773 non-null   int64  \n",
      " 9   overview        4770 non-null   object \n",
      " 10  tagline         3951 non-null   object \n",
      " 11  uid             4773 non-null   int64  \n",
      " 12  director_id     4773 non-null   int64  \n",
      "dtypes: float64(1), int64(7), object(5)\n",
      "memory usage: 484.9+ KB\n"
     ]
    }
   ],
   "source": [
    "movies_df.info()"
   ]
  },
  {
   "cell_type": "code",
   "execution_count": 32,
   "id": "9c9f11ad",
   "metadata": {},
   "outputs": [],
   "source": [
    "# Fetch all the data of the movies frm the directors from the director table in the above database\n",
    "cur.execute('SELECT * FROM directors')\n",
    "\n",
    "#Creating a cursor object\n",
    "directors = cur.fetchall()\n",
    "#directors"
   ]
  },
  {
   "cell_type": "code",
   "execution_count": 8,
   "id": "6e71a757",
   "metadata": {},
   "outputs": [
    {
     "data": {
      "text/html": [
       "<div>\n",
       "<style scoped>\n",
       "    .dataframe tbody tr th:only-of-type {\n",
       "        vertical-align: middle;\n",
       "    }\n",
       "\n",
       "    .dataframe tbody tr th {\n",
       "        vertical-align: top;\n",
       "    }\n",
       "\n",
       "    .dataframe thead th {\n",
       "        text-align: right;\n",
       "    }\n",
       "</style>\n",
       "<table border=\"1\" class=\"dataframe\">\n",
       "  <thead>\n",
       "    <tr style=\"text-align: right;\">\n",
       "      <th></th>\n",
       "      <th>name</th>\n",
       "      <th>director_id</th>\n",
       "      <th>gender</th>\n",
       "      <th>uid</th>\n",
       "      <th>department</th>\n",
       "    </tr>\n",
       "  </thead>\n",
       "  <tbody>\n",
       "    <tr>\n",
       "      <th>0</th>\n",
       "      <td>James Cameron</td>\n",
       "      <td>4762</td>\n",
       "      <td>2</td>\n",
       "      <td>2710</td>\n",
       "      <td>Directing</td>\n",
       "    </tr>\n",
       "    <tr>\n",
       "      <th>1</th>\n",
       "      <td>Gore Verbinski</td>\n",
       "      <td>4763</td>\n",
       "      <td>2</td>\n",
       "      <td>1704</td>\n",
       "      <td>Directing</td>\n",
       "    </tr>\n",
       "    <tr>\n",
       "      <th>2</th>\n",
       "      <td>Sam Mendes</td>\n",
       "      <td>4764</td>\n",
       "      <td>2</td>\n",
       "      <td>39</td>\n",
       "      <td>Directing</td>\n",
       "    </tr>\n",
       "    <tr>\n",
       "      <th>3</th>\n",
       "      <td>Christopher Nolan</td>\n",
       "      <td>4765</td>\n",
       "      <td>2</td>\n",
       "      <td>525</td>\n",
       "      <td>Directing</td>\n",
       "    </tr>\n",
       "    <tr>\n",
       "      <th>4</th>\n",
       "      <td>Andrew Stanton</td>\n",
       "      <td>4766</td>\n",
       "      <td>2</td>\n",
       "      <td>7</td>\n",
       "      <td>Directing</td>\n",
       "    </tr>\n",
       "    <tr>\n",
       "      <th>...</th>\n",
       "      <td>...</td>\n",
       "      <td>...</td>\n",
       "      <td>...</td>\n",
       "      <td>...</td>\n",
       "      <td>...</td>\n",
       "    </tr>\n",
       "    <tr>\n",
       "      <th>2344</th>\n",
       "      <td>Shane Carruth</td>\n",
       "      <td>7106</td>\n",
       "      <td>2</td>\n",
       "      <td>76624</td>\n",
       "      <td>Directing</td>\n",
       "    </tr>\n",
       "    <tr>\n",
       "      <th>2345</th>\n",
       "      <td>Neill Dela Llana</td>\n",
       "      <td>7107</td>\n",
       "      <td>0</td>\n",
       "      <td>1174437</td>\n",
       "      <td>Directing</td>\n",
       "    </tr>\n",
       "    <tr>\n",
       "      <th>2346</th>\n",
       "      <td>Scott Smith</td>\n",
       "      <td>7108</td>\n",
       "      <td>0</td>\n",
       "      <td>1219158</td>\n",
       "      <td>Directing</td>\n",
       "    </tr>\n",
       "    <tr>\n",
       "      <th>2347</th>\n",
       "      <td>Daniel Hsia</td>\n",
       "      <td>7109</td>\n",
       "      <td>2</td>\n",
       "      <td>208138</td>\n",
       "      <td>Directing</td>\n",
       "    </tr>\n",
       "    <tr>\n",
       "      <th>2348</th>\n",
       "      <td>Brian Herzlinger</td>\n",
       "      <td>7110</td>\n",
       "      <td>2</td>\n",
       "      <td>85563</td>\n",
       "      <td>Directing</td>\n",
       "    </tr>\n",
       "  </tbody>\n",
       "</table>\n",
       "<p>2349 rows × 5 columns</p>\n",
       "</div>"
      ],
      "text/plain": [
       "                   name  director_id  gender      uid department\n",
       "0         James Cameron         4762       2     2710  Directing\n",
       "1        Gore Verbinski         4763       2     1704  Directing\n",
       "2            Sam Mendes         4764       2       39  Directing\n",
       "3     Christopher Nolan         4765       2      525  Directing\n",
       "4        Andrew Stanton         4766       2        7  Directing\n",
       "...                 ...          ...     ...      ...        ...\n",
       "2344      Shane Carruth         7106       2    76624  Directing\n",
       "2345   Neill Dela Llana         7107       0  1174437  Directing\n",
       "2346        Scott Smith         7108       0  1219158  Directing\n",
       "2347        Daniel Hsia         7109       2   208138  Directing\n",
       "2348   Brian Herzlinger         7110       2    85563  Directing\n",
       "\n",
       "[2349 rows x 5 columns]"
      ]
     },
     "execution_count": 8,
     "metadata": {},
     "output_type": "execute_result"
    }
   ],
   "source": [
    "# Creating a dataframe \n",
    "directors_df = pd.DataFrame(directors, columns=['name', 'director_id', 'gender','uid','department'])\n",
    "directors_df"
   ]
  },
  {
   "cell_type": "code",
   "execution_count": 23,
   "id": "e3e604b4",
   "metadata": {},
   "outputs": [
    {
     "name": "stdout",
     "output_type": "stream",
     "text": [
      "<class 'pandas.core.frame.DataFrame'>\n",
      "RangeIndex: 2349 entries, 0 to 2348\n",
      "Data columns (total 5 columns):\n",
      " #   Column       Non-Null Count  Dtype \n",
      "---  ------       --------------  ----- \n",
      " 0   name         2349 non-null   object\n",
      " 1   director_id  2349 non-null   int64 \n",
      " 2   gender       2349 non-null   int64 \n",
      " 3   uid          2349 non-null   int64 \n",
      " 4   department   2349 non-null   object\n",
      "dtypes: int64(3), object(2)\n",
      "memory usage: 91.9+ KB\n"
     ]
    }
   ],
   "source": [
    "directors_df.info()"
   ]
  },
  {
   "cell_type": "code",
   "execution_count": 24,
   "id": "903f0302",
   "metadata": {},
   "outputs": [
    {
     "data": {
      "text/plain": [
       "(4773, 13)"
      ]
     },
     "execution_count": 24,
     "metadata": {},
     "output_type": "execute_result"
    }
   ],
   "source": [
    "movies_df.shape"
   ]
  },
  {
   "cell_type": "code",
   "execution_count": 25,
   "id": "1eb26392",
   "metadata": {},
   "outputs": [
    {
     "data": {
      "text/plain": [
       "(2349, 5)"
      ]
     },
     "execution_count": 25,
     "metadata": {},
     "output_type": "execute_result"
    }
   ],
   "source": [
    "directors_df.shape"
   ]
  },
  {
   "cell_type": "code",
   "execution_count": 26,
   "id": "6be54eba",
   "metadata": {},
   "outputs": [
    {
     "data": {
      "text/html": [
       "<div>\n",
       "<style scoped>\n",
       "    .dataframe tbody tr th:only-of-type {\n",
       "        vertical-align: middle;\n",
       "    }\n",
       "\n",
       "    .dataframe tbody tr th {\n",
       "        vertical-align: top;\n",
       "    }\n",
       "\n",
       "    .dataframe thead th {\n",
       "        text-align: right;\n",
       "    }\n",
       "</style>\n",
       "<table border=\"1\" class=\"dataframe\">\n",
       "  <thead>\n",
       "    <tr style=\"text-align: right;\">\n",
       "      <th></th>\n",
       "      <th>id</th>\n",
       "      <th>budget</th>\n",
       "      <th>popularity</th>\n",
       "      <th>revenue</th>\n",
       "      <th>vote_average</th>\n",
       "      <th>vote_count</th>\n",
       "      <th>uid</th>\n",
       "      <th>director_id</th>\n",
       "    </tr>\n",
       "  </thead>\n",
       "  <tbody>\n",
       "    <tr>\n",
       "      <th>count</th>\n",
       "      <td>4773.000000</td>\n",
       "      <td>4.773000e+03</td>\n",
       "      <td>4773.000000</td>\n",
       "      <td>4.773000e+03</td>\n",
       "      <td>4773.000000</td>\n",
       "      <td>4773.000000</td>\n",
       "      <td>4773.000000</td>\n",
       "      <td>4773.000000</td>\n",
       "    </tr>\n",
       "    <tr>\n",
       "      <th>mean</th>\n",
       "      <td>45985.680913</td>\n",
       "      <td>2.922461e+07</td>\n",
       "      <td>21.136602</td>\n",
       "      <td>8.277710e+07</td>\n",
       "      <td>6.109177</td>\n",
       "      <td>694.541588</td>\n",
       "      <td>56244.396396</td>\n",
       "      <td>5586.661429</td>\n",
       "    </tr>\n",
       "    <tr>\n",
       "      <th>std</th>\n",
       "      <td>1382.032760</td>\n",
       "      <td>4.078679e+07</td>\n",
       "      <td>31.864132</td>\n",
       "      <td>1.632374e+08</td>\n",
       "      <td>1.146789</td>\n",
       "      <td>1237.251355</td>\n",
       "      <td>87452.149183</td>\n",
       "      <td>670.413263</td>\n",
       "    </tr>\n",
       "    <tr>\n",
       "      <th>min</th>\n",
       "      <td>43597.000000</td>\n",
       "      <td>0.000000e+00</td>\n",
       "      <td>0.000000</td>\n",
       "      <td>0.000000e+00</td>\n",
       "      <td>0.000000</td>\n",
       "      <td>0.000000</td>\n",
       "      <td>5.000000</td>\n",
       "      <td>4762.000000</td>\n",
       "    </tr>\n",
       "    <tr>\n",
       "      <th>25%</th>\n",
       "      <td>44790.000000</td>\n",
       "      <td>9.500000e+05</td>\n",
       "      <td>4.000000</td>\n",
       "      <td>0.000000e+00</td>\n",
       "      <td>5.600000</td>\n",
       "      <td>55.000000</td>\n",
       "      <td>8998.000000</td>\n",
       "      <td>5011.000000</td>\n",
       "    </tr>\n",
       "    <tr>\n",
       "      <th>50%</th>\n",
       "      <td>45983.000000</td>\n",
       "      <td>1.500000e+07</td>\n",
       "      <td>13.000000</td>\n",
       "      <td>1.947811e+07</td>\n",
       "      <td>6.200000</td>\n",
       "      <td>238.000000</td>\n",
       "      <td>14517.000000</td>\n",
       "      <td>5389.000000</td>\n",
       "    </tr>\n",
       "    <tr>\n",
       "      <th>75%</th>\n",
       "      <td>47176.000000</td>\n",
       "      <td>4.000000e+07</td>\n",
       "      <td>28.000000</td>\n",
       "      <td>9.361701e+07</td>\n",
       "      <td>6.800000</td>\n",
       "      <td>742.000000</td>\n",
       "      <td>57876.000000</td>\n",
       "      <td>6086.000000</td>\n",
       "    </tr>\n",
       "    <tr>\n",
       "      <th>max</th>\n",
       "      <td>48399.000000</td>\n",
       "      <td>3.800000e+08</td>\n",
       "      <td>875.000000</td>\n",
       "      <td>2.787965e+09</td>\n",
       "      <td>10.000000</td>\n",
       "      <td>13752.000000</td>\n",
       "      <td>459488.000000</td>\n",
       "      <td>7110.000000</td>\n",
       "    </tr>\n",
       "  </tbody>\n",
       "</table>\n",
       "</div>"
      ],
      "text/plain": [
       "                 id        budget   popularity       revenue  vote_average  \\\n",
       "count   4773.000000  4.773000e+03  4773.000000  4.773000e+03   4773.000000   \n",
       "mean   45985.680913  2.922461e+07    21.136602  8.277710e+07      6.109177   \n",
       "std     1382.032760  4.078679e+07    31.864132  1.632374e+08      1.146789   \n",
       "min    43597.000000  0.000000e+00     0.000000  0.000000e+00      0.000000   \n",
       "25%    44790.000000  9.500000e+05     4.000000  0.000000e+00      5.600000   \n",
       "50%    45983.000000  1.500000e+07    13.000000  1.947811e+07      6.200000   \n",
       "75%    47176.000000  4.000000e+07    28.000000  9.361701e+07      6.800000   \n",
       "max    48399.000000  3.800000e+08   875.000000  2.787965e+09     10.000000   \n",
       "\n",
       "         vote_count            uid  director_id  \n",
       "count   4773.000000    4773.000000  4773.000000  \n",
       "mean     694.541588   56244.396396  5586.661429  \n",
       "std     1237.251355   87452.149183   670.413263  \n",
       "min        0.000000       5.000000  4762.000000  \n",
       "25%       55.000000    8998.000000  5011.000000  \n",
       "50%      238.000000   14517.000000  5389.000000  \n",
       "75%      742.000000   57876.000000  6086.000000  \n",
       "max    13752.000000  459488.000000  7110.000000  "
      ]
     },
     "execution_count": 26,
     "metadata": {},
     "output_type": "execute_result"
    }
   ],
   "source": [
    "# Statistical view\n",
    "movies_df.describe()"
   ]
  },
  {
   "cell_type": "markdown",
   "id": "cbb6ea92",
   "metadata": {},
   "source": [
    "# QUESTION1: How many movies are present in the moovies table"
   ]
  },
  {
   "cell_type": "code",
   "execution_count": 27,
   "id": "b3863a07",
   "metadata": {},
   "outputs": [
    {
     "data": {
      "text/plain": [
       "Index(['id', 'original_title', 'budget', 'popularity', 'release_date',\n",
       "       'revenue', 'title', 'vote_average', 'vote_count', 'overview', 'tagline',\n",
       "       'uid', 'director_id'],\n",
       "      dtype='object')"
      ]
     },
     "execution_count": 27,
     "metadata": {},
     "output_type": "execute_result"
    }
   ],
   "source": [
    "movies_df.columns"
   ]
  },
  {
   "cell_type": "code",
   "execution_count": 29,
   "id": "f74876c2",
   "metadata": {},
   "outputs": [
    {
     "name": "stdout",
     "output_type": "stream",
     "text": [
      "The number of movies present in the movies table is 4773\n"
     ]
    }
   ],
   "source": [
    "cur.execute('SELECT COUNT(id) FROM movies')\n",
    "count = cur.fetchall()\n",
    "count\n",
    "print(f\"The number of movies present in the movies table is {count[0][0]}\")"
   ]
  },
  {
   "cell_type": "markdown",
   "id": "f3e8b337",
   "metadata": {},
   "source": [
    "# QUESTION2: Find out these 3 directors : James Cameron, Luc Besson, John Woo"
   ]
  },
  {
   "cell_type": "code",
   "execution_count": 30,
   "id": "b4a0c92d",
   "metadata": {},
   "outputs": [
    {
     "data": {
      "text/plain": [
       "Index(['name', 'director_id', 'gender', 'uid', 'department'], dtype='object')"
      ]
     },
     "execution_count": 30,
     "metadata": {},
     "output_type": "execute_result"
    }
   ],
   "source": [
    "directors_df.columns"
   ]
  },
  {
   "cell_type": "code",
   "execution_count": 31,
   "id": "ff1768cb",
   "metadata": {},
   "outputs": [
    {
     "name": "stdout",
     "output_type": "stream",
     "text": [
      "Here are the info about the three directors [('John Woo', 4893, 2, 11401, 'Directing'), ('Luc Besson', 4949, 2, 59, 'Directing')]\n"
     ]
    }
   ],
   "source": [
    "cur.execute(\"SELECT * FROM directors WHERE name IN ('james Cameron','Luc Besson','John Woo')\")\n",
    "three_directors = cur.fetchall()\n",
    "print(f\"Here are the info about the three directors {three_directors}\")"
   ]
  },
  {
   "cell_type": "markdown",
   "id": "7fe73fa4",
   "metadata": {},
   "source": [
    "# QUESTION3: Find all the directors with the names starting with Steven"
   ]
  },
  {
   "cell_type": "code",
   "execution_count": 32,
   "id": "4e71be22",
   "metadata": {},
   "outputs": [
    {
     "name": "stdout",
     "output_type": "stream",
     "text": [
      "These are the directors starting with 'Steven' [('Steven Spielberg', 4799, 2, 488, 'Directing'), ('Steven Soderbergh', 4909, 2, 1884, 'Directing'), ('Steven Brill', 5013, 2, 32593, 'Directing'), ('Steven Zaillian', 5117, 2, 2260, 'Directing'), ('Steven Quale', 5216, 2, 93214, 'Directing'), ('Steven Seagal', 5221, 2, 23880, 'Directing'), ('Steven E. de Souza', 5390, 2, 1726, 'Directing'), ('Steven Shainberg', 5803, 2, 67795, 'Directing'), ('Steven R. Monroe', 6713, 2, 88039, 'Directing')]\n"
     ]
    }
   ],
   "source": [
    "cur.execute(\"SELECT * FROM directors WHERE name LIKE 'Steven%'\") #Like shows a pattern\n",
    "name_like = cur.fetchall()\n",
    "print(f\"These are the directors starting with 'Steven' {name_like}\")"
   ]
  },
  {
   "cell_type": "markdown",
   "id": "b5ef2cd6",
   "metadata": {},
   "source": [
    "# QUESTION4: Count all the female directors Hint: Gender=1"
   ]
  },
  {
   "cell_type": "code",
   "execution_count": 35,
   "id": "5efbbe2f",
   "metadata": {},
   "outputs": [
    {
     "name": "stdout",
     "output_type": "stream",
     "text": [
      "The number of female directors is 150\n"
     ]
    }
   ],
   "source": [
    "cur.execute(\"SELECT COUNT(name) from directors where gender = 1\")\n",
    "female_directors = cur.fetchall()\n",
    "print(f\"The number of female directors is {female_directors[0][0]}\")"
   ]
  },
  {
   "cell_type": "markdown",
   "id": "6a2f3849",
   "metadata": {},
   "source": [
    "There are 150 female directors from the directors table"
   ]
  },
  {
   "cell_type": "markdown",
   "id": "7af3b789",
   "metadata": {},
   "source": [
    "# QUESTION5: Find the name of the 10th First Female directors"
   ]
  },
  {
   "cell_type": "code",
   "execution_count": 38,
   "id": "0e1145f6",
   "metadata": {},
   "outputs": [
    {
     "name": "stdout",
     "output_type": "stream",
     "text": [
      "The 10th female directors is Angelina Jolie\n"
     ]
    }
   ],
   "source": [
    "cur.execute(\"SELECT name from directors where gender = 1\")\n",
    "tenth_female = cur.fetchall()\n",
    "print(f\"The 10th female directors is {tenth_female[9][0]}\")"
   ]
  },
  {
   "cell_type": "markdown",
   "id": "2f9a9281",
   "metadata": {},
   "source": [
    "# QUESTION6: Find the top 3 most popular movies"
   ]
  },
  {
   "cell_type": "code",
   "execution_count": 39,
   "id": "46171cdd",
   "metadata": {},
   "outputs": [
    {
     "data": {
      "text/plain": [
       "Index(['id', 'original_title', 'budget', 'popularity', 'release_date',\n",
       "       'revenue', 'title', 'vote_average', 'vote_count', 'overview', 'tagline',\n",
       "       'uid', 'director_id'],\n",
       "      dtype='object')"
      ]
     },
     "execution_count": 39,
     "metadata": {},
     "output_type": "execute_result"
    }
   ],
   "source": [
    "movies_df.columns"
   ]
  },
  {
   "cell_type": "code",
   "execution_count": 40,
   "id": "69fd28c9",
   "metadata": {},
   "outputs": [
    {
     "name": "stdout",
     "output_type": "stream",
     "text": [
      "These are the top 10 most popular movies [('Minions',), ('Interstellar',), ('Deadpool',)]\n"
     ]
    }
   ],
   "source": [
    "cur.execute(\"SELECT original_title from movies ORDER BY popularity desc LIMIT 3\")\n",
    "top_ten = cur.fetchall()\n",
    "print(f\"These are the top 10 most popular movies {top_ten}\")"
   ]
  },
  {
   "cell_type": "markdown",
   "id": "e4053037",
   "metadata": {},
   "source": [
    "# QUESTION7: Find the top three most bankable movies(huge budget)\n",
    "   "
   ]
  },
  {
   "cell_type": "code",
   "execution_count": 42,
   "id": "4ee8bb35",
   "metadata": {},
   "outputs": [
    {
     "data": {
      "text/plain": [
       "Index(['id', 'original_title', 'budget', 'popularity', 'release_date',\n",
       "       'revenue', 'title', 'vote_average', 'vote_count', 'overview', 'tagline',\n",
       "       'uid', 'director_id'],\n",
       "      dtype='object')"
      ]
     },
     "execution_count": 42,
     "metadata": {},
     "output_type": "execute_result"
    }
   ],
   "source": [
    "movies_df.columns"
   ]
  },
  {
   "cell_type": "code",
   "execution_count": 43,
   "id": "1198469f",
   "metadata": {},
   "outputs": [
    {
     "name": "stdout",
     "output_type": "stream",
     "text": [
      "The top three most bankable movies are [('Pirates of the Caribbean: On Stranger Tides',), (\"Pirates of the Caribbean: At World's End\",), ('Avengers: Age of Ultron',)]\n"
     ]
    }
   ],
   "source": [
    "cur.execute(\"SELECT original_title FROM movies ORDER BY budget desc LIMIT 3\")\n",
    "most_bankable = cur.fetchall()\n",
    "print(f\"The top three most bankable movies are {most_bankable}\")"
   ]
  },
  {
   "cell_type": "markdown",
   "id": "4c034874",
   "metadata": {},
   "source": [
    "# QUESTION8:  Find out the most Awarded avarage rated movie since January  1st, 2000"
   ]
  },
  {
   "cell_type": "code",
   "execution_count": 44,
   "id": "66abf8db",
   "metadata": {},
   "outputs": [
    {
     "data": {
      "text/plain": [
       "Index(['id', 'original_title', 'budget', 'popularity', 'release_date',\n",
       "       'revenue', 'title', 'vote_average', 'vote_count', 'overview', 'tagline',\n",
       "       'uid', 'director_id'],\n",
       "      dtype='object')"
      ]
     },
     "execution_count": 44,
     "metadata": {},
     "output_type": "execute_result"
    }
   ],
   "source": [
    "movies_df.columns"
   ]
  },
  {
   "cell_type": "code",
   "execution_count": 10,
   "id": "18e554f6",
   "metadata": {},
   "outputs": [
    {
     "name": "stdout",
     "output_type": "stream",
     "text": [
      "The most awarded average rated movie is Sardaarji\n"
     ]
    }
   ],
   "source": [
    "cur.execute(\"SELECT original_title FROM movies WHERE release_date>'2000-01-01' ORDER BY vote_average DESC limit 1 \")\n",
    "most_awarded = cur.fetchall()\n",
    "print(f\"The most awarded average rated movie is {most_awarded[0][0]}\") "
   ]
  },
  {
   "cell_type": "markdown",
   "id": "68bc37d7",
   "metadata": {},
   "source": [
    "# QUESTION9: Find all the movies that has been directed by Brenda Chapman"
   ]
  },
  {
   "cell_type": "code",
   "execution_count": 11,
   "id": "62e4ecfe",
   "metadata": {},
   "outputs": [
    {
     "data": {
      "text/plain": [
       "Index(['id', 'original_title', 'budget', 'popularity', 'release_date',\n",
       "       'revenue', 'title', 'vote_average', 'vote_count', 'overview', 'tagline',\n",
       "       'uid', 'director_id'],\n",
       "      dtype='object')"
      ]
     },
     "execution_count": 11,
     "metadata": {},
     "output_type": "execute_result"
    }
   ],
   "source": [
    "movies_df.columns"
   ]
  },
  {
   "cell_type": "code",
   "execution_count": 12,
   "id": "76780223",
   "metadata": {},
   "outputs": [
    {
     "data": {
      "text/plain": [
       "Index(['name', 'director_id', 'gender', 'uid', 'department'], dtype='object')"
      ]
     },
     "execution_count": 12,
     "metadata": {},
     "output_type": "execute_result"
    }
   ],
   "source": [
    "directors_df.columns"
   ]
  },
  {
   "cell_type": "code",
   "execution_count": 13,
   "id": "6b875184",
   "metadata": {},
   "outputs": [
    {
     "name": "stdout",
     "output_type": "stream",
     "text": [
      "The movies directed by Brenda Chapman is/are Brave\n"
     ]
    }
   ],
   "source": [
    "query = \"\"\"SELECT original_title FROM movies LEFT JOIN directors on movies.director_id = directors.id WHERE directors.name ='Brenda Chapman' \"\"\"\n",
    "cur.execute(query)\n",
    "directed_movie = cur.fetchall()\n",
    "print(f\"The movies directed by Brenda Chapman is/are {directed_movie[0][0]}\")"
   ]
  },
  {
   "cell_type": "markdown",
   "id": "7264c219",
   "metadata": {},
   "source": [
    "# QUESTION10: Find out the director who has made the most movies"
   ]
  },
  {
   "cell_type": "code",
   "execution_count": 15,
   "id": "85bae551",
   "metadata": {},
   "outputs": [
    {
     "data": {
      "text/plain": [
       "Index(['id', 'original_title', 'budget', 'popularity', 'release_date',\n",
       "       'revenue', 'title', 'vote_average', 'vote_count', 'overview', 'tagline',\n",
       "       'uid', 'director_id'],\n",
       "      dtype='object')"
      ]
     },
     "execution_count": 15,
     "metadata": {},
     "output_type": "execute_result"
    }
   ],
   "source": [
    "movies_df.columns"
   ]
  },
  {
   "cell_type": "code",
   "execution_count": 16,
   "id": "6b8d8445",
   "metadata": {},
   "outputs": [
    {
     "data": {
      "text/plain": [
       "Index(['name', 'director_id', 'gender', 'uid', 'department'], dtype='object')"
      ]
     },
     "execution_count": 16,
     "metadata": {},
     "output_type": "execute_result"
    }
   ],
   "source": [
    "directors_df.columns"
   ]
  },
  {
   "cell_type": "code",
   "execution_count": 21,
   "id": "314c701a",
   "metadata": {},
   "outputs": [
    {
     "name": "stdout",
     "output_type": "stream",
     "text": [
      "This is the director who made the most movies Steven Spielberg\n"
     ]
    }
   ],
   "source": [
    "cur.execute(\"SELECT name FROM directors JOIN movies ON directors.id = movies.director_id GROUP BY director_id ORDER BY COUNT(name) DESC LIMIT 1\")\n",
    "most_movies = cur.fetchall()\n",
    "print(f\"This is the director who made the most movies {most_movies[0][0]}\")"
   ]
  },
  {
   "cell_type": "markdown",
   "id": "93c05ac4",
   "metadata": {},
   "source": [
    "# QUESTION11: Find out the director who is most bankable"
   ]
  },
  {
   "cell_type": "code",
   "execution_count": 23,
   "id": "28b5ee25",
   "metadata": {},
   "outputs": [
    {
     "name": "stdout",
     "output_type": "stream",
     "text": [
      "The most bankable director is Steven Spielberg\n"
     ]
    }
   ],
   "source": [
    "cur.execute('SELECT name FROM directors JOIN movies ON directors.id = movies.director_id  GROUP BY director_id ORDER BY SUM(budget) DESC LIMIT 1 ')\n",
    "director_most_bankable = cur.fetchall()\n",
    "print(f\"The most bankable director is {director_most_bankable[0][0]}\")"
   ]
  },
  {
   "cell_type": "markdown",
   "id": "75c5b7ca",
   "metadata": {},
   "source": [
    "# QUESTION12: Find out the Top 10 highest budget making movies"
   ]
  },
  {
   "cell_type": "code",
   "execution_count": 24,
   "id": "82dc7f06",
   "metadata": {},
   "outputs": [
    {
     "name": "stdout",
     "output_type": "stream",
     "text": [
      "[('Pirates of the Caribbean: On Stranger Tides',), (\"Pirates of the Caribbean: At World's End\",), ('Avengers: Age of Ultron',), ('Superman Returns',), ('John Carter',), ('Tangled',), ('Spider-Man 3',), ('The Lone Ranger',), ('The Dark Knight Rises',), ('Harry Potter and the Half-Blood Prince',)]\n"
     ]
    }
   ],
   "source": [
    "cur.execute('SELECT original_title from movies order by budget desc limit 10')\n",
    "top_10 = cur.fetchall()\n",
    "print(f\"{top_10}\")"
   ]
  },
  {
   "cell_type": "markdown",
   "id": "4a948be5",
   "metadata": {},
   "source": [
    "# QUESTION13: Find the top 10 revenue making movies"
   ]
  },
  {
   "cell_type": "code",
   "execution_count": 26,
   "id": "b5c64154",
   "metadata": {},
   "outputs": [
    {
     "name": "stdout",
     "output_type": "stream",
     "text": [
      "The top 10 revenue making movies are [('Avatar',), ('Titanic',), ('The Avengers',), ('Jurassic World',), ('Furious 7',), ('Avengers: Age of Ultron',), ('Frozen',), ('Iron Man 3',), ('Minions',), ('Captain America: Civil War',)]\n"
     ]
    }
   ],
   "source": [
    "cur.execute('SELECT original_title from movies order by revenue desc limit 10 ')\n",
    "top_10_revenue = cur.fetchall()\n",
    "print(f\"The top 10 revenue making movies are {top_10_revenue}\")"
   ]
  },
  {
   "cell_type": "markdown",
   "id": "22fa21e6",
   "metadata": {},
   "source": [
    "# QUESTION14: Find out the top 10 most popular movies with the highest rating (vote_average)"
   ]
  },
  {
   "cell_type": "code",
   "execution_count": 27,
   "id": "6d3339fd",
   "metadata": {},
   "outputs": [
    {
     "data": {
      "text/plain": [
       "Index(['id', 'original_title', 'budget', 'popularity', 'release_date',\n",
       "       'revenue', 'title', 'vote_average', 'vote_count', 'overview', 'tagline',\n",
       "       'uid', 'director_id'],\n",
       "      dtype='object')"
      ]
     },
     "execution_count": 27,
     "metadata": {},
     "output_type": "execute_result"
    }
   ],
   "source": [
    "movies_df.columns"
   ]
  },
  {
   "cell_type": "code",
   "execution_count": 30,
   "id": "9b706199",
   "metadata": {},
   "outputs": [
    {
     "name": "stdout",
     "output_type": "stream",
     "text": [
      "The top 10 most popular movies w.r.t the highest ratings are [('Stiff Upper Lips',), ('Dancer, Texas Pop. 81',), ('Sardaarji',), (\"One Man's Hero\",), ('There Goes My Baby',), ('Counting',), ('Déjà Vu',), ('Dolphins and Whales: Tribes of the Ocean',), ('Lake of Fire',), ('Dreaming of Joseph Lees',)]\n"
     ]
    }
   ],
   "source": [
    "cur.execute('SELECT original_title from movies order by popularity,  vote_average desc limit 10')\n",
    "top_10_rating = cur.fetchall()\n",
    "print(f\"The top 10 most popular movies w.r.t the highest ratings are {top_10_rating}\")"
   ]
  },
  {
   "cell_type": "markdown",
   "id": "29f1ba98",
   "metadata": {},
   "source": [
    "# QUESTION15: Find the top 10 directors with the number of movies and revenue where revenue should be taken into account for doing the new analysis     "
   ]
  },
  {
   "cell_type": "markdown",
   "id": "0d3d8da9",
   "metadata": {},
   "source": [
    "The director who has got the highest revenue should comes at the top "
   ]
  },
  {
   "cell_type": "markdown",
   "id": "c36c226d",
   "metadata": {},
   "source": [
    "# QUESTION16: Find the top 10 directors with the number of movies and revenue where movies should be taken into account for doing the new analysis     "
   ]
  },
  {
   "cell_type": "markdown",
   "id": "b84383ca",
   "metadata": {},
   "source": [
    "# QUESTION17: Give the title, release date, budget, revenue, popularity and vote average of those movies made by steven Spielberg"
   ]
  },
  {
   "cell_type": "code",
   "execution_count": null,
   "id": "4969b709",
   "metadata": {},
   "outputs": [],
   "source": []
  },
  {
   "cell_type": "code",
   "execution_count": null,
   "id": "266ec7ce",
   "metadata": {},
   "outputs": [],
   "source": []
  },
  {
   "cell_type": "code",
   "execution_count": null,
   "id": "b629e55d",
   "metadata": {},
   "outputs": [],
   "source": []
  },
  {
   "cell_type": "code",
   "execution_count": null,
   "id": "f756e42a",
   "metadata": {},
   "outputs": [],
   "source": []
  }
 ],
 "metadata": {
  "kernelspec": {
   "display_name": "Python 3 (ipykernel)",
   "language": "python",
   "name": "python3"
  },
  "language_info": {
   "codemirror_mode": {
    "name": "ipython",
    "version": 3
   },
   "file_extension": ".py",
   "mimetype": "text/x-python",
   "name": "python",
   "nbconvert_exporter": "python",
   "pygments_lexer": "ipython3",
   "version": "3.9.12"
  }
 },
 "nbformat": 4,
 "nbformat_minor": 5
}
